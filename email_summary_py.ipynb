{
  "nbformat": 4,
  "nbformat_minor": 0,
  "metadata": {
    "colab": {
      "provenance": [],
      "authorship_tag": "ABX9TyM2iFV7wYXvEgfJo6JA4gwY",
      "include_colab_link": true
    },
    "kernelspec": {
      "name": "python3",
      "display_name": "Python 3"
    },
    "language_info": {
      "name": "python"
    }
  },
  "cells": [
    {
      "cell_type": "markdown",
      "metadata": {
        "id": "view-in-github",
        "colab_type": "text"
      },
      "source": [
        "<a href=\"https://colab.research.google.com/github/hunar0710/Real-time-data-ingestion-Final-Project/blob/main/email_summary_py.ipynb\" target=\"_parent\"><img src=\"https://colab.research.google.com/assets/colab-badge.svg\" alt=\"Open In Colab\"/></a>"
      ]
    },
    {
      "cell_type": "code",
      "execution_count": 3,
      "metadata": {
        "colab": {
          "base_uri": "https://localhost:8080/"
        },
        "id": "bf5kkHdzLAC7",
        "outputId": "e2ec0e0f-bacd-459d-fc84-fb8e077b6951"
      },
      "outputs": [
        {
          "output_type": "stream",
          "name": "stdout",
          "text": [
            " Email sent successfully.\n"
          ]
        }
      ],
      "source": [
        "import smtplib\n",
        "from email.mime.text import MIMEText\n",
        "import pandas as pd\n",
        "\n",
        "def send_email(html_content):\n",
        "    sender_email = \"hunarsikka73@gmail.com\"\n",
        "    receiver_email = \"harshit.sinha1711@gmail.com\"\n",
        "    app_password = \"qmds rsey yjgu nlkk\"\n",
        "\n",
        "    msg = MIMEText(html_content, \"html\")\n",
        "    msg[\"Subject\"] = \"Delta Pipeline Update Summary\"\n",
        "    msg[\"From\"] = sender_email\n",
        "    msg[\"To\"] = receiver_email\n",
        "\n",
        "    try:\n",
        "        with smtplib.SMTP_SSL(\"smtp.gmail.com\", 465) as server:\n",
        "            server.login(sender_email, app_password)\n",
        "            server.send_message(msg)\n",
        "            print(\" Email sent successfully.\")\n",
        "    except Exception as e:\n",
        "        print(\" Failed to send email:\", e)\n",
        "\n",
        "# Example: simulate 5 new rows for testing\n",
        "data = [\n",
        "    {\"Name\": \"Harshit Sinha\", \"Address\": \"Jaipur, RJ\", \"Email\": \"harshit@example.com\"},\n",
        "    {\"Name\": \"Aditi Verma\", \"Address\": \"Delhi, DL\", \"Email\": \"aditi@example.com\"},\n",
        "    {\"Name\": \"Rohan Das\", \"Address\": \"Mumbai, MH\", \"Email\": \"rohan@example.com\"},\n",
        "    {\"Name\": \"Kritika Sen\", \"Address\": \"Indore, MP\", \"Email\": \"kritika@example.com\"},\n",
        "    {\"Name\": \"Neha Shah\", \"Address\": \"Ahmedabad, GJ\", \"Email\": \"neha@example.com\"},\n",
        "]\n",
        "df = pd.DataFrame(data)\n",
        "\n",
        "#  Convert to HTML table\n",
        "html_summary = f\"\"\"\n",
        "<h3> Delta Pipeline Summary</h3>\n",
        "<p>{len(df)} new rows appended successfully to the Delta table.</p>\n",
        "{df.to_html(index=False)}\n",
        "\"\"\"\n",
        "\n",
        "#  Send email\n",
        "send_email(html_summary)"
      ]
    }
  ]
}